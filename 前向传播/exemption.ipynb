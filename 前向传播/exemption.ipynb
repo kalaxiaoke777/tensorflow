{
 "cells": [
  {
   "metadata": {
    "collapsed": true
   },
   "cell_type": "code",
   "outputs": [],
   "source": "",
   "id": "initial_id",
   "execution_count": null
  },
  {
   "metadata": {
    "ExecuteTime": {
     "end_time": "2025-03-25T09:53:12.511898Z",
     "start_time": "2025-03-25T09:53:02.757619Z"
    }
   },
   "cell_type": "code",
   "source": [
    "import tensorflow as tf\n",
    "from numpy.random import sample\n",
    "from tensorflow import keras, losses\n",
    "from tensorflow.keras import datasets, layers, models\n",
    "# import matplotlib.pyplot as plt\n",
    "\n",
    "(X,y),(x_test,y_test) = datasets.mnist.load_data()\n",
    "X = tf.convert_to_tensor(X,dtype=tf.float32) / 255.\n",
    "y = tf.convert_to_tensor(y,dtype=tf.int32)\n",
    "\n",
    "x_test = tf.convert_to_tensor(x_test,dtype=tf.float32) / 255.\n",
    "y_test = tf.convert_to_tensor(y_test,dtype=tf.int32)\n",
    "train_db = tf.data.Dataset.from_tensor_slices((X, y)).batch(128)\n",
    "\n",
    "test_db = tf.data.Dataset.from_tensor_slices((x_test, y_test)).batch(128)\n",
    "w1 = tf.Variable(tf.random.truncated_normal(shape=(784,256), dtype=tf.float32, stddev=0.1))\n",
    "b1 = tf.Variable(tf.zeros(256))\n",
    "w2 = tf.Variable(tf.random.truncated_normal(shape=(256,128), dtype=tf.float32, stddev=0.1))\n",
    "b2 = tf.Variable(tf.zeros(128))\n",
    "w3 = tf.Variable(tf.random.truncated_normal(shape=(128,10), dtype=tf.float32, stddev=0.1))\n",
    "b3 = tf.Variable(tf.zeros(10))\n",
    "lr = 0.001\n",
    "def model():\n",
    "    for step,(x,y) in enumerate(train_db):\n",
    "        \"\"\"\n",
    "        x [128,28,28]\n",
    "        y [128]\n",
    "        \"\"\"\n",
    "        x = tf.reshape(x, (-1,784))\n",
    "\n",
    "\n",
    "        with tf.GradientTape() as tape:\n",
    "            h1 = x @ w1 + b1\n",
    "            h1 = tf.nn.relu(h1)\n",
    "            h2 = h1 @ w2 + b2\n",
    "            h2 = tf.nn.relu(h2)\n",
    "            out = h2 @ w3 + b3\n",
    "\n",
    "            y_one_hot = tf.one_hot(y, depth=10)\n",
    "\n",
    "            loss = tf.square(y_one_hot - out)\n",
    "            loss = tf.reduce_mean(loss)\n",
    "\n",
    "        grads = tape.gradient(loss, [w1, b1, w2, b2, w3, b3])\n",
    "        w1.assign_sub(lr * grads[0])\n",
    "        b1.assign_sub(lr * grads[1])\n",
    "        w2.assign_sub(lr * grads[2])\n",
    "        b2.assign_sub(lr * grads[3])\n",
    "        w3.assign_sub(lr * grads[4])\n",
    "        b3.assign_sub(lr * grads[5])\n",
    "        if step % 100 == 0:\n",
    "            print(\"loss\",step,float(loss))\n",
    "for i in range(2):\n",
    "    print(i)\n",
    "    model()\n",
    "for step,(x,y) in enumerate(test_db):\n",
    "    x = tf.reshape(x, (-1,784))\n"
   ],
   "id": "18573efb2836b64a",
   "outputs": [
    {
     "name": "stdout",
     "output_type": "stream",
     "text": [
      "0\n",
      "loss 0 0.7129631638526917\n",
      "loss 100 0.2507573664188385\n",
      "loss 200 0.19909629225730896\n",
      "loss 300 0.16916295886039734\n",
      "loss 400 0.18617887794971466\n",
      "1\n",
      "loss 0 0.15224158763885498\n",
      "loss 100 0.15158133208751678\n",
      "loss 200 0.15058168768882751\n",
      "loss 300 0.1401713639497757\n",
      "loss 400 0.15404395759105682\n"
     ]
    }
   ],
   "execution_count": 16
  }
 ],
 "metadata": {
  "kernelspec": {
   "display_name": "Python 3",
   "language": "python",
   "name": "python3"
  },
  "language_info": {
   "codemirror_mode": {
    "name": "ipython",
    "version": 2
   },
   "file_extension": ".py",
   "mimetype": "text/x-python",
   "name": "python",
   "nbconvert_exporter": "python",
   "pygments_lexer": "ipython2",
   "version": "2.7.6"
  }
 },
 "nbformat": 4,
 "nbformat_minor": 5
}
