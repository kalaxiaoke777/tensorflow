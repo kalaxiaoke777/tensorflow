{
 "cells": [
  {
   "cell_type": "code",
   "id": "initial_id",
   "metadata": {
    "collapsed": true,
    "ExecuteTime": {
     "end_time": "2025-03-24T14:16:18.986548Z",
     "start_time": "2025-03-24T14:16:18.732547Z"
    }
   },
   "source": "",
   "outputs": [
    {
     "data": {
      "text/plain": [
       "(TensorShape([60000, 28, 28]), TensorShape([60000]))"
      ]
     },
     "execution_count": 201,
     "metadata": {},
     "output_type": "execute_result"
    }
   ],
   "execution_count": 201
  },
  {
   "metadata": {
    "ExecuteTime": {
     "end_time": "2025-03-24T14:21:40.234821Z",
     "start_time": "2025-03-24T14:21:28.892045Z"
    }
   },
   "cell_type": "code",
   "source": [
    "import tensorflow as tf\n",
    "from numpy.random import sample\n",
    "from tensorflow import keras, losses\n",
    "from tensorflow.keras import datasets, layers, models\n",
    "import matplotlib.pyplot as plt\n",
    "\n",
    "(X,y),_ = datasets.mnist.load_data()\n",
    "X = tf.convert_to_tensor(X,dtype=tf.float32) / 255.\n",
    "y = tf.convert_to_tensor(y,dtype=tf.int32)\n",
    "X.shape, y.shape\n",
    "train_db = tf.data.Dataset.from_tensor_slices((X, y)).batch(128)\n",
    "w1 = tf.Variable(tf.random.truncated_normal(shape=(784,256), dtype=tf.float32, stddev=0.1))\n",
    "b1 = tf.Variable(tf.zeros(256))\n",
    "w2 = tf.Variable(tf.random.truncated_normal(shape=(256,128), dtype=tf.float32, stddev=0.1))\n",
    "b2 = tf.Variable(tf.zeros(128))\n",
    "w3 = tf.Variable(tf.random.truncated_normal(shape=(128,10), dtype=tf.float32, stddev=0.1))\n",
    "b3 = tf.Variable(tf.zeros(10))\n",
    "lr = 0.001\n",
    "def model():\n",
    "    for step,(x,y) in enumerate(train_db):\n",
    "        \"\"\"\n",
    "        x [128,28,28]\n",
    "        y [128]\n",
    "        \"\"\"\n",
    "        x = tf.reshape(x, (-1,784))\n",
    "\n",
    "\n",
    "        with tf.GradientTape() as tape:\n",
    "            h1 = x @ w1 + b1\n",
    "            h1 = tf.nn.relu(h1)\n",
    "            h2 = h1 @ w2 + b2\n",
    "            h2 = tf.nn.relu(h2)\n",
    "            out = h2 @ w3 + b3\n",
    "\n",
    "            y_one_hot = tf.one_hot(y, depth=10)\n",
    "\n",
    "            loss = tf.square(y_one_hot - out)\n",
    "            loss = tf.reduce_mean(loss)\n",
    "\n",
    "        grads = tape.gradient(loss, [w1, b1, w2, b2, w3, b3])\n",
    "        w1.assign_sub(lr * grads[0])\n",
    "        b1.assign_sub(lr * grads[1])\n",
    "        w2.assign_sub(lr * grads[2])\n",
    "        b2.assign_sub(lr * grads[3])\n",
    "        w3.assign_sub(lr * grads[4])\n",
    "        b3.assign_sub(lr * grads[5])\n",
    "        if step % 100 == 0:\n",
    "            print(\"loss\",step,float(loss))\n",
    "for i in range(10):\n",
    "    print(i)\n",
    "    model()\n"
   ],
   "id": "18573efb2836b64a",
   "outputs": [
    {
     "name": "stdout",
     "output_type": "stream",
     "text": [
      "0\n",
      "loss 0 0.47273269295692444\n",
      "loss 100 0.22516962885856628\n",
      "loss 200 0.20336151123046875\n",
      "loss 300 0.1925262212753296\n",
      "loss 400 0.19787970185279846\n",
      "1\n",
      "loss 0 0.18383356928825378\n",
      "loss 100 0.16703905165195465\n",
      "loss 200 0.16062724590301514\n",
      "loss 300 0.1566394716501236\n",
      "loss 400 0.16018106043338776\n",
      "2\n",
      "loss 0 0.15196411311626434\n",
      "loss 100 0.1418580412864685\n",
      "loss 200 0.13676388561725616\n",
      "loss 300 0.13600683212280273\n",
      "loss 400 0.13815969228744507\n",
      "3\n",
      "loss 0 0.13282470405101776\n",
      "loss 100 0.12614336609840393\n",
      "loss 200 0.1215393990278244\n",
      "loss 300 0.1223907619714737\n",
      "loss 400 0.12370844185352325\n",
      "4\n",
      "loss 0 0.1198616772890091\n",
      "loss 100 0.11553604900836945\n",
      "loss 200 0.11100683361291885\n",
      "loss 300 0.11266766488552094\n",
      "loss 400 0.11343987286090851\n",
      "5\n",
      "loss 0 0.11060134321451187\n",
      "loss 100 0.10780564695596695\n",
      "loss 200 0.10320667177438736\n",
      "loss 300 0.10539567470550537\n",
      "loss 400 0.10586313158273697\n",
      "6\n",
      "loss 0 0.10361592471599579\n",
      "loss 100 0.10182967036962509\n",
      "loss 200 0.09717686474323273\n",
      "loss 300 0.09967273473739624\n",
      "loss 400 0.10001085698604584\n",
      "7\n",
      "loss 0 0.09806222468614578\n",
      "loss 100 0.09704913944005966\n",
      "loss 200 0.0923258438706398\n",
      "loss 300 0.09509147703647614\n",
      "loss 400 0.09523443877696991\n",
      "8\n",
      "loss 0 0.09355811774730682\n",
      "loss 100 0.09307686239480972\n",
      "loss 200 0.08838434517383575\n",
      "loss 300 0.09128908067941666\n",
      "loss 400 0.09122256934642792\n",
      "9\n",
      "loss 0 0.08979424834251404\n",
      "loss 100 0.08973206579685211\n",
      "loss 200 0.08509154617786407\n",
      "loss 300 0.0880369320511818\n",
      "loss 400 0.08780843019485474\n"
     ]
    }
   ],
   "execution_count": 213
  }
 ],
 "metadata": {
  "kernelspec": {
   "display_name": "Python 3",
   "language": "python",
   "name": "python3"
  },
  "language_info": {
   "codemirror_mode": {
    "name": "ipython",
    "version": 2
   },
   "file_extension": ".py",
   "mimetype": "text/x-python",
   "name": "python",
   "nbconvert_exporter": "python",
   "pygments_lexer": "ipython2",
   "version": "2.7.6"
  }
 },
 "nbformat": 4,
 "nbformat_minor": 5
}
