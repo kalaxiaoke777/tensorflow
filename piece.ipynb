{
 "cells": [
  {
   "cell_type": "code",
   "id": "initial_id",
   "metadata": {
    "collapsed": true,
    "ExecuteTime": {
     "end_time": "2025-03-25T08:12:34.970288Z",
     "start_time": "2025-03-25T08:12:34.957356Z"
    }
   },
   "source": "import tensorflow as tf",
   "outputs": [],
   "execution_count": 24
  },
  {
   "metadata": {
    "ExecuteTime": {
     "end_time": "2025-03-25T08:12:35.015288Z",
     "start_time": "2025-03-25T08:12:34.991288Z"
    }
   },
   "cell_type": "code",
   "source": [
    "tensor = tf.constant([[[1.0, 2.0], [3.0, 4.0]], [[5.0, 6.0], [7.0, 8.0]]])\n",
    "norm_value = tf.norm(tensor, ord=2, axis=[1, 2])\n",
    "print(norm_value)  # 输出：[5.477225575051661, 14.142135623730951]"
   ],
   "id": "aa5a188dd188df74",
   "outputs": [
    {
     "name": "stdout",
     "output_type": "stream",
     "text": [
      "tf.Tensor([ 5.4649854 13.190035 ], shape=(2,), dtype=float32)\n"
     ]
    }
   ],
   "execution_count": 25
  },
  {
   "metadata": {
    "ExecuteTime": {
     "end_time": "2025-03-25T08:12:35.060974Z",
     "start_time": "2025-03-25T08:12:35.045831Z"
    }
   },
   "cell_type": "code",
   "source": [
    "tensor = tf.constant([[3, 1, 2],[4, 1, 2]])\n",
    "sorted_tensor = tf.sort(tensor, direction='ASCENDING', axis=0)\n",
    "sorted_tensor"
   ],
   "id": "a116a08033293c23",
   "outputs": [
    {
     "data": {
      "text/plain": [
       "<tf.Tensor: shape=(2, 3), dtype=int32, numpy=\n",
       "array([[3, 1, 2],\n",
       "       [4, 1, 2]])>"
      ]
     },
     "execution_count": 26,
     "metadata": {},
     "output_type": "execute_result"
    }
   ],
   "execution_count": 26
  },
  {
   "metadata": {
    "ExecuteTime": {
     "end_time": "2025-03-25T08:12:35.200226Z",
     "start_time": "2025-03-25T08:12:35.186610Z"
    }
   },
   "cell_type": "code",
   "source": [
    "tensor = tf.constant([[3, 1, 2],[0, 5, 2]])\n",
    "sorted_tensor = tf.argsort(tensor, direction='ASCENDING', axis=1)\n",
    "sorted_tensor"
   ],
   "id": "a78ee522fcf2e646",
   "outputs": [
    {
     "data": {
      "text/plain": [
       "<tf.Tensor: shape=(2, 3), dtype=int32, numpy=\n",
       "array([[1, 2, 0],\n",
       "       [0, 2, 1]])>"
      ]
     },
     "execution_count": 27,
     "metadata": {},
     "output_type": "execute_result"
    }
   ],
   "execution_count": 27
  },
  {
   "metadata": {
    "ExecuteTime": {
     "end_time": "2025-03-25T08:40:48.030009Z",
     "start_time": "2025-03-25T08:40:48.012232Z"
    }
   },
   "cell_type": "code",
   "source": [
    "# 创建一个简单的图像张量\n",
    "image = tf.constant([[1, 2, 3], [4, 5, 6], [7, 8, 9]])\n",
    "# 常数填充\n",
    "tf.pad(image, [[1, 0],[1, 0]], mode='CONSTANT', constant_values=1)\n",
    "# 对称\n",
    "tf.pad(image, [[1, 0],[1, 0]], mode='CONSTANT')\n",
    "# 反射\n",
    "tf.pad(image, [[1, 0],[1, 0]], mode='REFLECT')"
   ],
   "id": "e8655d0ecd477775",
   "outputs": [
    {
     "data": {
      "text/plain": [
       "<tf.Tensor: shape=(4, 4), dtype=int32, numpy=\n",
       "array([[5, 4, 5, 6],\n",
       "       [2, 1, 2, 3],\n",
       "       [5, 4, 5, 6],\n",
       "       [8, 7, 8, 9]])>"
      ]
     },
     "execution_count": 57,
     "metadata": {},
     "output_type": "execute_result"
    }
   ],
   "execution_count": 57
  },
  {
   "metadata": {
    "ExecuteTime": {
     "end_time": "2025-03-25T08:55:05.718643Z",
     "start_time": "2025-03-25T08:55:05.707663Z"
    }
   },
   "cell_type": "code",
   "source": [
    "tensor = tf.constant([-10.0, -0.5, 0.0, 0.5, 1.0, 1.5, 2.0])\n",
    "clipped_tensor = tf.clip_by_value(tensor, clip_value_min=-0.5, clip_value_max=1.0)\n",
    "asd = tf.math.maximum(tf.math.minimum(tensor, 1.0), -0.5)\n",
    "clipped_tensor,asd# 输出：\n",
    "# [-0.5, -0.5,  0. ,  0.5,  1. ,  1. ,  1. ]\n"
   ],
   "id": "32f7e522dfdd9fdf",
   "outputs": [
    {
     "data": {
      "text/plain": [
       "(<tf.Tensor: shape=(7,), dtype=float32, numpy=array([-0.5, -0.5,  0. ,  0.5,  1. ,  1. ,  1. ], dtype=float32)>,\n",
       " <tf.Tensor: shape=(7,), dtype=float32, numpy=array([-0.5, -0.5,  0. ,  0.5,  1. ,  1. ,  1. ], dtype=float32)>)"
      ]
     },
     "execution_count": 100,
     "metadata": {},
     "output_type": "execute_result"
    }
   ],
   "execution_count": 100
  },
  {
   "metadata": {
    "ExecuteTime": {
     "end_time": "2025-03-25T08:49:04.371817Z",
     "start_time": "2025-03-25T08:49:04.357687Z"
    }
   },
   "cell_type": "code",
   "source": [
    "tensor = tf.constant([1.0, 2.0, 3.0])\n",
    "t2 = tf.constant([4.0, 5.0, 6.0])\n",
    "clipped_tensors = tf.clip_by_global_norm([tensor], clip_norm=5.0)\n",
    "clipped_tensors"
   ],
   "id": "973caf7ae811b49b",
   "outputs": [
    {
     "data": {
      "text/plain": [
       "([<tf.Tensor: shape=(3,), dtype=float32, numpy=array([1., 2., 3.], dtype=float32)>],\n",
       " <tf.Tensor: shape=(), dtype=float32, numpy=3.7416575>)"
      ]
     },
     "execution_count": 87,
     "metadata": {},
     "output_type": "execute_result"
    }
   ],
   "execution_count": 87
  },
  {
   "metadata": {
    "ExecuteTime": {
     "end_time": "2025-03-25T08:56:14.153219Z",
     "start_time": "2025-03-25T08:56:14.128030Z"
    }
   },
   "cell_type": "code",
   "source": [
    "t1 = tf.constant([1.0, 2.0, 3.0])\n",
    "t2 = tf.constant([4.0, 5.0, 6.0])\n",
    "t3 = tf.constant([7.0, 6.0, 23.0])\n",
    "t4 = tf.constant([5.0, 62.0, 51.0])\n",
    "clipped_tensors, global_norm = tf.clip_by_global_norm([t1, t2,t4,t3], clip_norm=1.0)\n",
    "\n",
    "clipped_tensors"
   ],
   "id": "7a804dbb1082dfac",
   "outputs": [
    {
     "data": {
      "text/plain": [
       "[<tf.Tensor: shape=(3,), dtype=float32, numpy=array([0.01180563, 0.02361125, 0.03541688], dtype=float32)>,\n",
       " <tf.Tensor: shape=(3,), dtype=float32, numpy=array([0.04722251, 0.05902814, 0.07083376], dtype=float32)>,\n",
       " <tf.Tensor: shape=(3,), dtype=float32, numpy=array([0.05902814, 0.7319489 , 0.602087  ], dtype=float32)>,\n",
       " <tf.Tensor: shape=(3,), dtype=float32, numpy=array([0.0826394 , 0.07083376, 0.27152944], dtype=float32)>]"
      ]
     },
     "execution_count": 101,
     "metadata": {},
     "output_type": "execute_result"
    }
   ],
   "execution_count": 101
  },
  {
   "metadata": {
    "ExecuteTime": {
     "end_time": "2025-03-25T09:04:58.912365Z",
     "start_time": "2025-03-25T09:04:58.890511Z"
    }
   },
   "cell_type": "code",
   "source": [
    "tensor = tf.constant([-1.0, -0.5, 0.0, 0.5, 1.0, 1.5, 2.0])\n",
    "condition = tf.logical_and(tensor >= -0.5, tensor <= 1.0)\n",
    "clipped_tensor = tf.where(condition, tensor, tf.constant(-0.5, shape=tensor.shape))\n",
    "clipped_tensor"
   ],
   "id": "4dd26c6f0b1d0312",
   "outputs": [
    {
     "data": {
      "text/plain": [
       "<tf.Tensor: shape=(7,), dtype=float32, numpy=array([-0.5, -0.5,  0. ,  0.5,  1. , -0.5, -0.5], dtype=float32)>"
      ]
     },
     "execution_count": 105,
     "metadata": {},
     "output_type": "execute_result"
    }
   ],
   "execution_count": 105
  },
  {
   "metadata": {
    "ExecuteTime": {
     "end_time": "2025-03-25T09:07:36.477905Z",
     "start_time": "2025-03-25T09:07:36.462145Z"
    }
   },
   "cell_type": "code",
   "source": [
    "x = tf.constant([[10]])\n",
    "y = tf.constant([[20]])\n",
    "\n",
    "# 定义两个分支函数\n",
    "def true_branch():\n",
    "    return x @ y\n",
    "\n",
    "def false_branch():\n",
    "    return x @ y\n",
    "\n",
    "# 使用 tf.cond\n",
    "result = tf.cond(x > y, true_branch, false_branch)\n",
    "\n",
    "print(result)  # 输出：-10"
   ],
   "id": "f1f869eabe65d1c6",
   "outputs": [
    {
     "name": "stdout",
     "output_type": "stream",
     "text": [
      "tf.Tensor([[200]], shape=(1, 1), dtype=int32)\n"
     ]
    }
   ],
   "execution_count": 110
  },
  {
   "metadata": {
    "ExecuteTime": {
     "end_time": "2025-03-25T09:19:56.146975Z",
     "start_time": "2025-03-25T09:19:56.129902Z"
    }
   },
   "cell_type": "code",
   "source": [
    "# 创建条件张量\n",
    "condition = tf.constant([True, True, False, False])\n",
    "\n",
    "# 创建两个张量\n",
    "x = tf.constant([1, 2, 3, 4])\n",
    "y = tf.constant([10, 20, 30, 40])\n",
    "\n",
    "# 使用 tf.where\n",
    "result = tf.where(condition, x, y)\n",
    "result"
   ],
   "id": "f0e15cea75a1a681",
   "outputs": [
    {
     "data": {
      "text/plain": [
       "<tf.Tensor: shape=(4,), dtype=int32, numpy=array([ 1,  2, 30, 40])>"
      ]
     },
     "execution_count": 139,
     "metadata": {},
     "output_type": "execute_result"
    }
   ],
   "execution_count": 139
  }
 ],
 "metadata": {
  "kernelspec": {
   "display_name": "Python 3",
   "language": "python",
   "name": "python3"
  },
  "language_info": {
   "codemirror_mode": {
    "name": "ipython",
    "version": 2
   },
   "file_extension": ".py",
   "mimetype": "text/x-python",
   "name": "python",
   "nbconvert_exporter": "python",
   "pygments_lexer": "ipython2",
   "version": "2.7.6"
  }
 },
 "nbformat": 4,
 "nbformat_minor": 5
}
