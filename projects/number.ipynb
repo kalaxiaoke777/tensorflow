{
 "cells": [
  {
   "metadata": {
    "ExecuteTime": {
     "end_time": "2025-03-26T09:10:51.125388Z",
     "start_time": "2025-03-26T09:10:50.662965Z"
    }
   },
   "cell_type": "code",
   "source": [
    "import tensorflow as tf\n",
    "from tensorflow.keras import layers,datasets,models,Sequential,optimizers\n",
    "import datetime\n",
    "(x_train,y_train),(x_test,y_test) = datasets.fashion_mnist.load_data()"
   ],
   "id": "633b586522dffc71",
   "outputs": [],
   "execution_count": 116
  },
  {
   "metadata": {
    "ExecuteTime": {
     "end_time": "2025-03-26T09:10:51.203941Z",
     "start_time": "2025-03-26T09:10:51.134389Z"
    }
   },
   "cell_type": "code",
   "source": [
    "def process(x,y):\n",
    "    x = tf.cast(x,dtype=tf.float32) / 255.\n",
    "    y = tf.cast(y,dtype=tf.int32)\n",
    "    return x,y\n",
    "batch_sz = 128\n",
    "train_db = tf.data.Dataset.from_tensor_slices((x_train,y_train))\n",
    "train_db = train_db.map(process).shuffle(10000).batch(batch_sz)\n",
    "test_db = tf.data.Dataset.from_tensor_slices((x_test,y_test))\n",
    "test_db = test_db.map(process).batch(batch_sz)\n"
   ],
   "id": "fd5061cfde80a28d",
   "outputs": [],
   "execution_count": 117
  },
  {
   "metadata": {
    "ExecuteTime": {
     "end_time": "2025-03-26T09:10:51.484941Z",
     "start_time": "2025-03-26T09:10:51.237944Z"
    }
   },
   "cell_type": "code",
   "source": [
    "train_db_iter = iter(train_db)\n",
    "sample_iter = next(train_db_iter)\n",
    "sample_iter[0].shape, sample_iter[1].shape"
   ],
   "id": "5817eb0dca4c3b7b",
   "outputs": [
    {
     "data": {
      "text/plain": [
       "(TensorShape([128, 28, 28]), TensorShape([128]))"
      ]
     },
     "execution_count": 118,
     "metadata": {},
     "output_type": "execute_result"
    }
   ],
   "execution_count": 118
  },
  {
   "metadata": {
    "ExecuteTime": {
     "end_time": "2025-03-26T09:10:51.624940Z",
     "start_time": "2025-03-26T09:10:51.520943Z"
    }
   },
   "cell_type": "code",
   "source": [
    "model = Sequential(\n",
    "    [\n",
    "        layers.Dense(258, activation='relu'),\n",
    "        layers.Dense(128, activation='relu'),\n",
    "        layers.Dense(64, activation='relu'),\n",
    "        layers.Dense(32, activation='relu'),\n",
    "        layers.Dense(10),\n",
    "    ]\n",
    ")\n",
    "model.build(input_shape=(None, 784))\n",
    "model.summary()"
   ],
   "id": "660e80fcb5ab9a4f",
   "outputs": [
    {
     "name": "stdout",
     "output_type": "stream",
     "text": [
      "Model: \"sequential_10\"\n",
      "_________________________________________________________________\n",
      " Layer (type)                Output Shape              Param #   \n",
      "=================================================================\n",
      " dense_50 (Dense)            (None, 258)               202530    \n",
      "                                                                 \n",
      " dense_51 (Dense)            (None, 128)               33152     \n",
      "                                                                 \n",
      " dense_52 (Dense)            (None, 64)                8256      \n",
      "                                                                 \n",
      " dense_53 (Dense)            (None, 32)                2080      \n",
      "                                                                 \n",
      " dense_54 (Dense)            (None, 10)                330       \n",
      "                                                                 \n",
      "=================================================================\n",
      "Total params: 246,348\n",
      "Trainable params: 246,348\n",
      "Non-trainable params: 0\n",
      "_________________________________________________________________\n"
     ]
    }
   ],
   "execution_count": 119
  },
  {
   "metadata": {
    "ExecuteTime": {
     "end_time": "2025-03-26T09:11:37.922230Z",
     "start_time": "2025-03-26T09:10:51.659580Z"
    }
   },
   "cell_type": "code",
   "source": [
    "# 自动优化\n",
    "optimizer = optimizers.Adam(learning_rate=1e-3)\n",
    "\n",
    "log_dir = \"C:/Users/lenovo/Desktop/dengruizhe/tensorflow/tensorflow/projects/logs/fit/\" + datetime.datetime.now().strftime(\"%Y%m%d-%H%M%S\")\n",
    "writer = tf.summary.create_file_writer(log_dir)\n",
    "def forward():\n",
    "    \"\"\"\n",
    "    前向传播\n",
    "    :return:\n",
    "    \"\"\"\n",
    "    for step,(x,y) in enumerate(train_db):\n",
    "        x = tf.reshape(x,[-1,784])\n",
    "        with tf.GradientTape() as tape:\n",
    "            # 网络的输出\n",
    "            logits = model(x)\n",
    "            y_onehot = tf.one_hot(y,depth=10)\n",
    "\n",
    "            # 我认为这里也是比较关键，选用什么损失函数来进行反向传播\n",
    "            loss = tf.reduce_mean(tf.losses.MSE(y_onehot,logits))\n",
    "            loss2 = tf.reduce_mean(tf.losses.categorical_crossentropy(y_onehot,logits,from_logits=True))\n",
    "        #     计算梯度\n",
    "        gradients = tape.gradient(loss2,model.trainable_variables)\n",
    "        #  更新参数\n",
    "        optimizer.apply_gradients(zip(gradients,model.trainable_variables))\n",
    "\n",
    "\n",
    "        if step % 100 == 0:\n",
    "            print(step,float(loss),float(loss2))\n",
    "            with writer.as_default():\n",
    "                tf.summary.scalar('train_loss', loss, step=step + epoch * len(train_db))\n",
    "for epoch in range(5):\n",
    "    forward()\n",
    "    corrects,total = 0,0\n",
    "    for step,(x,y) in enumerate(test_db):\n",
    "        x = tf.reshape(x, (-1,784))\n",
    "        logits = model(x)\n",
    "\n",
    "        prob = tf.nn.softmax(logits,axis=-1)\n",
    "        pred = tf.cast(tf.argmax(prob,axis=-1),dtype=tf.int32)\n",
    "        correct = tf.reduce_sum(tf.cast(tf.equal(pred,y),dtype=tf.int32))\n",
    "        corrects += int(correct)\n",
    "        total += x.shape[0]\n",
    "    print(\"Accuracy:\",corrects / total * 100,\"%\")\n",
    "    with writer.as_default():\n",
    "        tf.summary.scalar('test_accuracy', corrects / total * 100, step=epoch)"
   ],
   "id": "c752269fff9e9dd7",
   "outputs": [
    {
     "name": "stdout",
     "output_type": "stream",
     "text": [
      "0 0.158280611038208 2.3191261291503906\n",
      "100 14.673531532287598 0.5984320044517517\n",
      "200 20.077957153320312 0.541550874710083\n",
      "300 15.91042423248291 0.5609288215637207\n",
      "400 19.596179962158203 0.3715458810329437\n",
      "Accuracy: 84.58 %\n",
      "0 18.518386840820312 0.4450332224369049\n",
      "100 20.434173583984375 0.3024790287017822\n",
      "200 24.790096282958984 0.4904400706291199\n",
      "300 22.672534942626953 0.2866445779800415\n",
      "400 24.996231079101562 0.40415680408477783\n",
      "Accuracy: 86.00999999999999 %\n",
      "0 22.913501739501953 0.3332185745239258\n",
      "100 29.017803192138672 0.3272151052951813\n",
      "200 32.18880844116211 0.37596845626831055\n",
      "300 28.082218170166016 0.29535555839538574\n",
      "400 29.024959564208984 0.4233640730381012\n",
      "Accuracy: 87.09 %\n",
      "0 31.399925231933594 0.3599300980567932\n",
      "100 34.22286605834961 0.38533082604408264\n",
      "200 29.671043395996094 0.43384841084480286\n",
      "300 33.37353515625 0.25913184881210327\n",
      "400 32.95117950439453 0.3634488880634308\n",
      "Accuracy: 87.38 %\n",
      "0 35.841739654541016 0.22969673573970795\n",
      "100 42.03129959106445 0.29542598128318787\n",
      "200 32.371910095214844 0.4619986414909363\n",
      "300 42.26876449584961 0.31518733501434326\n",
      "400 38.599884033203125 0.2282751202583313\n",
      "Accuracy: 87.18 %\n"
     ]
    }
   ],
   "execution_count": 120
  }
 ],
 "metadata": {
  "kernelspec": {
   "display_name": "Python 3",
   "language": "python",
   "name": "python3"
  },
  "language_info": {
   "codemirror_mode": {
    "name": "ipython",
    "version": 2
   },
   "file_extension": ".py",
   "mimetype": "text/x-python",
   "name": "python",
   "nbconvert_exporter": "python",
   "pygments_lexer": "ipython2",
   "version": "2.7.6"
  }
 },
 "nbformat": 4,
 "nbformat_minor": 5
}
