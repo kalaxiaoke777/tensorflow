{
 "cells": [
  {
   "metadata": {
    "ExecuteTime": {
     "end_time": "2025-03-26T14:00:40.099297Z",
     "start_time": "2025-03-26T14:00:39.868067Z"
    }
   },
   "cell_type": "code",
   "source": [
    "import tensorflow as tf\n",
    "from tensorflow.keras import layers,datasets,models,Sequential,optimizers,metrics\n",
    "import datetime\n",
    "(x_train,y_train),(x_test,y_test) = datasets.fashion_mnist.load_data()"
   ],
   "id": "633b586522dffc71",
   "outputs": [],
   "execution_count": 134
  },
  {
   "metadata": {
    "ExecuteTime": {
     "end_time": "2025-03-26T14:03:56.985203Z",
     "start_time": "2025-03-26T14:03:56.891516Z"
    }
   },
   "cell_type": "code",
   "source": [
    "def process(x,y):\n",
    "    x = tf.cast(x,dtype=tf.float32) / 255.\n",
    "    y = tf.cast(y,dtype=tf.int32)\n",
    "    return x,y\n",
    "batch_sz = 128\n",
    "train_db = tf.data.Dataset.from_tensor_slices((x_train,y_train))\n",
    "train_db = train_db.map(process).shuffle(10000).batch(batch_sz)\n",
    "test_db = tf.data.Dataset.from_tensor_slices((x_test,y_test))\n",
    "test_db = test_db.map(process).batch(batch_sz)\n",
    "train_db"
   ],
   "id": "fd5061cfde80a28d",
   "outputs": [
    {
     "data": {
      "text/plain": [
       "<BatchDataset shapes: ((None, 28, 28), (None,)), types: (tf.float32, tf.int32)>"
      ]
     },
     "execution_count": 142,
     "metadata": {},
     "output_type": "execute_result"
    }
   ],
   "execution_count": 142
  },
  {
   "metadata": {
    "ExecuteTime": {
     "end_time": "2025-03-26T14:04:00.984348Z",
     "start_time": "2025-03-26T14:04:00.745779Z"
    }
   },
   "cell_type": "code",
   "source": [
    "train_db_iter = iter(train_db)\n",
    "sample_iter = next(train_db_iter)\n",
    "sample_iter[0].shape, sample_iter[1].shape"
   ],
   "id": "5817eb0dca4c3b7b",
   "outputs": [
    {
     "data": {
      "text/plain": [
       "(TensorShape([128, 28, 28]), TensorShape([128]))"
      ]
     },
     "execution_count": 143,
     "metadata": {},
     "output_type": "execute_result"
    }
   ],
   "execution_count": 143
  },
  {
   "metadata": {
    "ExecuteTime": {
     "end_time": "2025-03-26T14:04:02.744614Z",
     "start_time": "2025-03-26T14:04:02.720691Z"
    }
   },
   "cell_type": "code",
   "source": [
    "model = Sequential(\n",
    "    [\n",
    "        layers.Flatten(input_shape=(28, 28)),  # 将输入数据从 28x28 展平为 784\n",
    "        layers.Dense(256, activation='relu'),\n",
    "        layers.Dense(128, activation='relu'),\n",
    "        layers.Dense(64, activation='relu'),\n",
    "        layers.Dense(32, activation='relu'),\n",
    "        layers.Dense(10),\n",
    "    ]\n",
    ")"
   ],
   "id": "acc59d57419fe88b",
   "outputs": [],
   "execution_count": 144
  },
  {
   "metadata": {
    "ExecuteTime": {
     "end_time": "2025-03-26T14:12:48.014905Z",
     "start_time": "2025-03-26T14:10:20.262538Z"
    }
   },
   "cell_type": "code",
   "source": [
    "model.compile(\n",
    "    optimizer=optimizers.Adam(lr=0.001),\n",
    "    loss=tf.keras.losses.SparseCategoricalCrossentropy(from_logits=True),\n",
    "    metrics=['accuracy']\n",
    ")\n",
    "model.fit(train_db,epochs=100bv ,validation_data=test_db,validation_steps=2)\n",
    "\n",
    "model.evaluate(test_db)"
   ],
   "id": "660e80fcb5ab9a4f",
   "outputs": [
    {
     "name": "stdout",
     "output_type": "stream",
     "text": [
      "Epoch 1/100\n",
      "469/469 [==============================] - 2s 3ms/step - loss: 0.0333 - accuracy: 0.9881 - val_loss: 0.6972 - val_accuracy: 0.9180\n",
      "Epoch 2/100\n",
      "469/469 [==============================] - 1s 3ms/step - loss: 0.0282 - accuracy: 0.9908 - val_loss: 0.8023 - val_accuracy: 0.9062\n",
      "Epoch 3/100\n",
      "469/469 [==============================] - 1s 3ms/step - loss: 0.0355 - accuracy: 0.9878 - val_loss: 0.6579 - val_accuracy: 0.9258\n",
      "Epoch 4/100\n",
      "469/469 [==============================] - 1s 3ms/step - loss: 0.0257 - accuracy: 0.9911 - val_loss: 0.7562 - val_accuracy: 0.9102\n",
      "Epoch 5/100\n",
      "469/469 [==============================] - 1s 3ms/step - loss: 0.0326 - accuracy: 0.9883 - val_loss: 0.7844 - val_accuracy: 0.9102\n",
      "Epoch 6/100\n",
      "469/469 [==============================] - 1s 3ms/step - loss: 0.0356 - accuracy: 0.9876 - val_loss: 0.7868 - val_accuracy: 0.8984\n",
      "Epoch 7/100\n",
      "469/469 [==============================] - 1s 3ms/step - loss: 0.0277 - accuracy: 0.9903 - val_loss: 0.9392 - val_accuracy: 0.8984\n",
      "Epoch 8/100\n",
      "469/469 [==============================] - 1s 3ms/step - loss: 0.0352 - accuracy: 0.9881 - val_loss: 0.7138 - val_accuracy: 0.9141\n",
      "Epoch 9/100\n",
      "469/469 [==============================] - 1s 3ms/step - loss: 0.0273 - accuracy: 0.9912 - val_loss: 0.6223 - val_accuracy: 0.9102\n",
      "Epoch 10/100\n",
      "469/469 [==============================] - 1s 3ms/step - loss: 0.0218 - accuracy: 0.9924 - val_loss: 0.9960 - val_accuracy: 0.9023\n",
      "Epoch 11/100\n",
      "469/469 [==============================] - 1s 3ms/step - loss: 0.0346 - accuracy: 0.9882 - val_loss: 0.8931 - val_accuracy: 0.8984\n",
      "Epoch 12/100\n",
      "469/469 [==============================] - 1s 3ms/step - loss: 0.0287 - accuracy: 0.9897 - val_loss: 0.7259 - val_accuracy: 0.9023\n",
      "Epoch 13/100\n",
      "469/469 [==============================] - 1s 3ms/step - loss: 0.0301 - accuracy: 0.9896 - val_loss: 0.7166 - val_accuracy: 0.8945\n",
      "Epoch 14/100\n",
      "469/469 [==============================] - 1s 3ms/step - loss: 0.0205 - accuracy: 0.9923 - val_loss: 0.7430 - val_accuracy: 0.9102\n",
      "Epoch 15/100\n",
      "469/469 [==============================] - 1s 3ms/step - loss: 0.0366 - accuracy: 0.9874 - val_loss: 0.6664 - val_accuracy: 0.9023\n",
      "Epoch 16/100\n",
      "469/469 [==============================] - 1s 3ms/step - loss: 0.0288 - accuracy: 0.9896 - val_loss: 0.6750 - val_accuracy: 0.9180\n",
      "Epoch 17/100\n",
      "469/469 [==============================] - 1s 3ms/step - loss: 0.0260 - accuracy: 0.9911 - val_loss: 0.7204 - val_accuracy: 0.9141\n",
      "Epoch 18/100\n",
      "469/469 [==============================] - 1s 3ms/step - loss: 0.0300 - accuracy: 0.9889 - val_loss: 0.8513 - val_accuracy: 0.8867\n",
      "Epoch 19/100\n",
      "469/469 [==============================] - 1s 3ms/step - loss: 0.0231 - accuracy: 0.9917 - val_loss: 0.7261 - val_accuracy: 0.8984\n",
      "Epoch 20/100\n",
      "469/469 [==============================] - 1s 3ms/step - loss: 0.0273 - accuracy: 0.9906 - val_loss: 0.6294 - val_accuracy: 0.9102\n",
      "Epoch 21/100\n",
      "469/469 [==============================] - 1s 3ms/step - loss: 0.0327 - accuracy: 0.9890 - val_loss: 0.5475 - val_accuracy: 0.9219\n",
      "Epoch 22/100\n",
      "469/469 [==============================] - 1s 3ms/step - loss: 0.0121 - accuracy: 0.9959 - val_loss: 0.7280 - val_accuracy: 0.9180\n",
      "Epoch 23/100\n",
      "469/469 [==============================] - 1s 3ms/step - loss: 0.0299 - accuracy: 0.9894 - val_loss: 0.5878 - val_accuracy: 0.9141\n",
      "Epoch 24/100\n",
      "469/469 [==============================] - 1s 3ms/step - loss: 0.0268 - accuracy: 0.9903 - val_loss: 0.6640 - val_accuracy: 0.8984\n",
      "Epoch 25/100\n",
      "469/469 [==============================] - 1s 3ms/step - loss: 0.0248 - accuracy: 0.9915 - val_loss: 0.7804 - val_accuracy: 0.9062\n",
      "Epoch 26/100\n",
      "469/469 [==============================] - 1s 3ms/step - loss: 0.0286 - accuracy: 0.9897 - val_loss: 0.6217 - val_accuracy: 0.9141\n",
      "Epoch 27/100\n",
      "469/469 [==============================] - 1s 3ms/step - loss: 0.0213 - accuracy: 0.9931 - val_loss: 0.7202 - val_accuracy: 0.8867\n",
      "Epoch 28/100\n",
      "469/469 [==============================] - 1s 3ms/step - loss: 0.0265 - accuracy: 0.9909 - val_loss: 0.7114 - val_accuracy: 0.9062\n",
      "Epoch 29/100\n",
      "469/469 [==============================] - 1s 3ms/step - loss: 0.0161 - accuracy: 0.9943 - val_loss: 0.7371 - val_accuracy: 0.8945\n",
      "Epoch 30/100\n",
      "469/469 [==============================] - 1s 3ms/step - loss: 0.0325 - accuracy: 0.9891 - val_loss: 0.7508 - val_accuracy: 0.8984\n",
      "Epoch 31/100\n",
      "469/469 [==============================] - 1s 3ms/step - loss: 0.0213 - accuracy: 0.9924 - val_loss: 0.8649 - val_accuracy: 0.9023\n",
      "Epoch 32/100\n",
      "469/469 [==============================] - 1s 3ms/step - loss: 0.0256 - accuracy: 0.9913 - val_loss: 0.6699 - val_accuracy: 0.9102\n",
      "Epoch 33/100\n",
      "469/469 [==============================] - 1s 3ms/step - loss: 0.0186 - accuracy: 0.9939 - val_loss: 0.7081 - val_accuracy: 0.9219\n",
      "Epoch 34/100\n",
      "469/469 [==============================] - 1s 3ms/step - loss: 0.0257 - accuracy: 0.9908 - val_loss: 0.8773 - val_accuracy: 0.9062\n",
      "Epoch 35/100\n",
      "469/469 [==============================] - 1s 3ms/step - loss: 0.0233 - accuracy: 0.9920 - val_loss: 0.9029 - val_accuracy: 0.8945\n",
      "Epoch 36/100\n",
      "469/469 [==============================] - 1s 3ms/step - loss: 0.0299 - accuracy: 0.9901 - val_loss: 0.7361 - val_accuracy: 0.8984\n",
      "Epoch 37/100\n",
      "469/469 [==============================] - 1s 3ms/step - loss: 0.0233 - accuracy: 0.9922 - val_loss: 0.7448 - val_accuracy: 0.9102\n",
      "Epoch 38/100\n",
      "469/469 [==============================] - 1s 3ms/step - loss: 0.0209 - accuracy: 0.9930 - val_loss: 0.7405 - val_accuracy: 0.9297\n",
      "Epoch 39/100\n",
      "469/469 [==============================] - 1s 3ms/step - loss: 0.0209 - accuracy: 0.9928 - val_loss: 0.7383 - val_accuracy: 0.9023\n",
      "Epoch 40/100\n",
      "469/469 [==============================] - 1s 3ms/step - loss: 0.0236 - accuracy: 0.9919 - val_loss: 0.7563 - val_accuracy: 0.8984\n",
      "Epoch 41/100\n",
      "469/469 [==============================] - 1s 3ms/step - loss: 0.0254 - accuracy: 0.9917 - val_loss: 0.7687 - val_accuracy: 0.9102\n",
      "Epoch 42/100\n",
      "469/469 [==============================] - 1s 3ms/step - loss: 0.0235 - accuracy: 0.9914 - val_loss: 0.7275 - val_accuracy: 0.9023\n",
      "Epoch 43/100\n",
      "469/469 [==============================] - 1s 3ms/step - loss: 0.0225 - accuracy: 0.9920 - val_loss: 0.7877 - val_accuracy: 0.8984\n",
      "Epoch 44/100\n",
      "469/469 [==============================] - 1s 3ms/step - loss: 0.0210 - accuracy: 0.9923 - val_loss: 0.7218 - val_accuracy: 0.9102\n",
      "Epoch 45/100\n",
      "469/469 [==============================] - 2s 3ms/step - loss: 0.0190 - accuracy: 0.9936 - val_loss: 0.7157 - val_accuracy: 0.9102\n",
      "Epoch 46/100\n",
      "469/469 [==============================] - 1s 3ms/step - loss: 0.0264 - accuracy: 0.9912 - val_loss: 0.8107 - val_accuracy: 0.9023\n",
      "Epoch 47/100\n",
      "469/469 [==============================] - 1s 3ms/step - loss: 0.0196 - accuracy: 0.9935 - val_loss: 0.8105 - val_accuracy: 0.9180\n",
      "Epoch 48/100\n",
      "469/469 [==============================] - 1s 3ms/step - loss: 0.0215 - accuracy: 0.9922 - val_loss: 0.7881 - val_accuracy: 0.9102\n",
      "Epoch 49/100\n",
      "469/469 [==============================] - 1s 3ms/step - loss: 0.0123 - accuracy: 0.9957 - val_loss: 0.7222 - val_accuracy: 0.9180\n",
      "Epoch 50/100\n",
      "469/469 [==============================] - 1s 3ms/step - loss: 0.0349 - accuracy: 0.9880 - val_loss: 0.7804 - val_accuracy: 0.9023\n",
      "Epoch 51/100\n",
      "469/469 [==============================] - 1s 3ms/step - loss: 0.0225 - accuracy: 0.9928 - val_loss: 0.8948 - val_accuracy: 0.9023\n",
      "Epoch 52/100\n",
      "469/469 [==============================] - 2s 3ms/step - loss: 0.0238 - accuracy: 0.9921 - val_loss: 0.8455 - val_accuracy: 0.9023\n",
      "Epoch 53/100\n",
      "469/469 [==============================] - 1s 3ms/step - loss: 0.0208 - accuracy: 0.9929 - val_loss: 0.8606 - val_accuracy: 0.8906\n",
      "Epoch 54/100\n",
      "469/469 [==============================] - 1s 3ms/step - loss: 0.0207 - accuracy: 0.9932 - val_loss: 0.7107 - val_accuracy: 0.9023\n",
      "Epoch 55/100\n",
      "469/469 [==============================] - 1s 3ms/step - loss: 0.0147 - accuracy: 0.9947 - val_loss: 0.7436 - val_accuracy: 0.9141\n",
      "Epoch 56/100\n",
      "469/469 [==============================] - 1s 3ms/step - loss: 0.0293 - accuracy: 0.9901 - val_loss: 0.9266 - val_accuracy: 0.8945\n",
      "Epoch 57/100\n",
      "469/469 [==============================] - 1s 3ms/step - loss: 0.0140 - accuracy: 0.9950 - val_loss: 0.8380 - val_accuracy: 0.9062\n",
      "Epoch 58/100\n",
      "469/469 [==============================] - 1s 3ms/step - loss: 0.0181 - accuracy: 0.9935 - val_loss: 0.8832 - val_accuracy: 0.9062\n",
      "Epoch 59/100\n",
      "469/469 [==============================] - 1s 3ms/step - loss: 0.0230 - accuracy: 0.9922 - val_loss: 0.9014 - val_accuracy: 0.8945\n",
      "Epoch 60/100\n",
      "469/469 [==============================] - 1s 3ms/step - loss: 0.0160 - accuracy: 0.9947 - val_loss: 0.8121 - val_accuracy: 0.9062\n",
      "Epoch 61/100\n",
      "469/469 [==============================] - 1s 3ms/step - loss: 0.0275 - accuracy: 0.9912 - val_loss: 0.8309 - val_accuracy: 0.8906\n",
      "Epoch 62/100\n",
      "469/469 [==============================] - 2s 3ms/step - loss: 0.0184 - accuracy: 0.9934 - val_loss: 0.8663 - val_accuracy: 0.9062\n",
      "Epoch 63/100\n",
      "469/469 [==============================] - 1s 3ms/step - loss: 0.0192 - accuracy: 0.9936 - val_loss: 0.8598 - val_accuracy: 0.9141\n",
      "Epoch 64/100\n",
      "469/469 [==============================] - 2s 3ms/step - loss: 0.0219 - accuracy: 0.9928 - val_loss: 0.7451 - val_accuracy: 0.9219\n",
      "Epoch 65/100\n",
      "469/469 [==============================] - 1s 3ms/step - loss: 0.0142 - accuracy: 0.9954 - val_loss: 0.7457 - val_accuracy: 0.9180\n",
      "Epoch 66/100\n",
      "469/469 [==============================] - 1s 3ms/step - loss: 0.0246 - accuracy: 0.9916 - val_loss: 0.9574 - val_accuracy: 0.8867\n",
      "Epoch 67/100\n",
      "469/469 [==============================] - 1s 3ms/step - loss: 0.0125 - accuracy: 0.9958 - val_loss: 0.8032 - val_accuracy: 0.9102\n",
      "Epoch 68/100\n",
      "469/469 [==============================] - 1s 3ms/step - loss: 0.0266 - accuracy: 0.9913 - val_loss: 0.8804 - val_accuracy: 0.9102\n",
      "Epoch 69/100\n",
      "469/469 [==============================] - 1s 3ms/step - loss: 0.0052 - accuracy: 0.9987 - val_loss: 0.8397 - val_accuracy: 0.9023\n",
      "Epoch 70/100\n",
      "469/469 [==============================] - 1s 3ms/step - loss: 0.0319 - accuracy: 0.9893 - val_loss: 0.6357 - val_accuracy: 0.9102\n",
      "Epoch 71/100\n",
      "469/469 [==============================] - 1s 3ms/step - loss: 0.0130 - accuracy: 0.9956 - val_loss: 0.8153 - val_accuracy: 0.9258\n",
      "Epoch 72/100\n",
      "469/469 [==============================] - 1s 3ms/step - loss: 0.0186 - accuracy: 0.9935 - val_loss: 0.6881 - val_accuracy: 0.9023\n",
      "Epoch 73/100\n",
      "469/469 [==============================] - 1s 3ms/step - loss: 0.0182 - accuracy: 0.9935 - val_loss: 0.7702 - val_accuracy: 0.9102\n",
      "Epoch 74/100\n",
      "469/469 [==============================] - 1s 3ms/step - loss: 0.0229 - accuracy: 0.9920 - val_loss: 0.6000 - val_accuracy: 0.9102\n",
      "Epoch 75/100\n",
      "469/469 [==============================] - 1s 3ms/step - loss: 0.0190 - accuracy: 0.9936 - val_loss: 0.7935 - val_accuracy: 0.9141\n",
      "Epoch 76/100\n",
      "469/469 [==============================] - 1s 3ms/step - loss: 0.0223 - accuracy: 0.9923 - val_loss: 0.8013 - val_accuracy: 0.9102\n",
      "Epoch 77/100\n",
      "469/469 [==============================] - 2s 3ms/step - loss: 0.0181 - accuracy: 0.9941 - val_loss: 0.7827 - val_accuracy: 0.9180\n",
      "Epoch 78/100\n",
      "469/469 [==============================] - 1s 3ms/step - loss: 0.0126 - accuracy: 0.9958 - val_loss: 0.8209 - val_accuracy: 0.9023\n",
      "Epoch 79/100\n",
      "469/469 [==============================] - 1s 3ms/step - loss: 0.0155 - accuracy: 0.9946 - val_loss: 0.7156 - val_accuracy: 0.9062\n",
      "Epoch 80/100\n",
      "469/469 [==============================] - 1s 3ms/step - loss: 0.0185 - accuracy: 0.9937 - val_loss: 0.8162 - val_accuracy: 0.9062\n",
      "Epoch 81/100\n",
      "469/469 [==============================] - 1s 3ms/step - loss: 0.0222 - accuracy: 0.9922 - val_loss: 0.8914 - val_accuracy: 0.8984\n",
      "Epoch 82/100\n",
      "469/469 [==============================] - 1s 3ms/step - loss: 0.0118 - accuracy: 0.9960 - val_loss: 0.8843 - val_accuracy: 0.9102\n",
      "Epoch 83/100\n",
      "469/469 [==============================] - 1s 3ms/step - loss: 0.0299 - accuracy: 0.9907 - val_loss: 0.8141 - val_accuracy: 0.8984\n",
      "Epoch 84/100\n",
      "469/469 [==============================] - 1s 3ms/step - loss: 0.0164 - accuracy: 0.9948 - val_loss: 0.8523 - val_accuracy: 0.8984\n",
      "Epoch 85/100\n",
      "469/469 [==============================] - 1s 3ms/step - loss: 0.0173 - accuracy: 0.9943 - val_loss: 0.8758 - val_accuracy: 0.8984\n",
      "Epoch 86/100\n",
      "469/469 [==============================] - 1s 3ms/step - loss: 0.0132 - accuracy: 0.9951 - val_loss: 1.0900 - val_accuracy: 0.9102\n",
      "Epoch 87/100\n",
      "469/469 [==============================] - 1s 3ms/step - loss: 0.0182 - accuracy: 0.9938 - val_loss: 0.8497 - val_accuracy: 0.9023\n",
      "Epoch 88/100\n",
      "469/469 [==============================] - 1s 3ms/step - loss: 0.0212 - accuracy: 0.9926 - val_loss: 0.7830 - val_accuracy: 0.9062\n",
      "Epoch 89/100\n",
      "469/469 [==============================] - 2s 3ms/step - loss: 0.0093 - accuracy: 0.9971 - val_loss: 0.8510 - val_accuracy: 0.9141\n",
      "Epoch 90/100\n",
      "469/469 [==============================] - 1s 3ms/step - loss: 0.0221 - accuracy: 0.9934 - val_loss: 0.5655 - val_accuracy: 0.9258\n",
      "Epoch 91/100\n",
      "469/469 [==============================] - 1s 3ms/step - loss: 0.0130 - accuracy: 0.9958 - val_loss: 0.9157 - val_accuracy: 0.8984\n",
      "Epoch 92/100\n",
      "469/469 [==============================] - 1s 3ms/step - loss: 0.0228 - accuracy: 0.9925 - val_loss: 0.8697 - val_accuracy: 0.8984\n",
      "Epoch 93/100\n",
      "469/469 [==============================] - 1s 3ms/step - loss: 0.0156 - accuracy: 0.9947 - val_loss: 0.8171 - val_accuracy: 0.9141\n",
      "Epoch 94/100\n",
      "469/469 [==============================] - 1s 3ms/step - loss: 0.0094 - accuracy: 0.9969 - val_loss: 0.9480 - val_accuracy: 0.8984\n",
      "Epoch 95/100\n",
      "469/469 [==============================] - 1s 3ms/step - loss: 0.0158 - accuracy: 0.9951 - val_loss: 0.9303 - val_accuracy: 0.9062\n",
      "Epoch 96/100\n",
      "469/469 [==============================] - 1s 3ms/step - loss: 0.0214 - accuracy: 0.9929 - val_loss: 0.8473 - val_accuracy: 0.8984\n",
      "Epoch 97/100\n",
      "469/469 [==============================] - 1s 3ms/step - loss: 0.0159 - accuracy: 0.9947 - val_loss: 0.8814 - val_accuracy: 0.8906\n",
      "Epoch 98/100\n",
      "469/469 [==============================] - 1s 3ms/step - loss: 0.0214 - accuracy: 0.9931 - val_loss: 0.8066 - val_accuracy: 0.9023\n",
      "Epoch 99/100\n",
      "469/469 [==============================] - 1s 3ms/step - loss: 0.0143 - accuracy: 0.9958 - val_loss: 1.0237 - val_accuracy: 0.8945\n",
      "Epoch 100/100\n",
      "469/469 [==============================] - 1s 3ms/step - loss: 0.0123 - accuracy: 0.9961 - val_loss: 0.8668 - val_accuracy: 0.9141\n",
      "79/79 [==============================] - 0s 2ms/step - loss: 1.0388 - accuracy: 0.8890\n"
     ]
    },
    {
     "data": {
      "text/plain": [
       "[1.0387814044952393, 0.8889999985694885]"
      ]
     },
     "execution_count": 149,
     "metadata": {},
     "output_type": "execute_result"
    }
   ],
   "execution_count": 149
  },
  {
   "metadata": {
    "ExecuteTime": {
     "end_time": "2025-03-26T14:22:54.960548Z",
     "start_time": "2025-03-26T14:22:54.939617Z"
    }
   },
   "cell_type": "code",
   "source": "model.save('my_model.h5')",
   "id": "c752269fff9e9dd7",
   "outputs": [],
   "execution_count": 162
  },
  {
   "metadata": {
    "ExecuteTime": {
     "end_time": "2025-03-26T14:22:57.609108Z",
     "start_time": "2025-03-26T14:22:57.011451Z"
    }
   },
   "cell_type": "code",
   "source": [
    "# 加载整个模型\n",
    "loaded_model = tf.keras.models.load_model('my_model.h5')\n",
    "\n",
    "# 使用加载的模型进行预测\n",
    "predictions = loaded_model.predict(x_test)\n",
    "\n",
    "# 评估加载的模型\n",
    "loss, accuracy = loaded_model.evaluate(test_db)\n",
    "print(f'Test Loss: {loss}, Test Accuracy: {accuracy}')"
   ],
   "id": "cca3eeffeedd92a0",
   "outputs": [
    {
     "name": "stdout",
     "output_type": "stream",
     "text": [
      "79/79 [==============================] - 0s 2ms/step - loss: 1.0388 - accuracy: 0.8890\n",
      "Test Loss: 1.0387814044952393, Test Accuracy: 0.8889999985694885\n"
     ]
    }
   ],
   "execution_count": 163
  }
 ],
 "metadata": {
  "kernelspec": {
   "display_name": "Python 3",
   "language": "python",
   "name": "python3"
  },
  "language_info": {
   "codemirror_mode": {
    "name": "ipython",
    "version": 2
   },
   "file_extension": ".py",
   "mimetype": "text/x-python",
   "name": "python",
   "nbconvert_exporter": "python",
   "pygments_lexer": "ipython2",
   "version": "2.7.6"
  }
 },
 "nbformat": 4,
 "nbformat_minor": 5
}
