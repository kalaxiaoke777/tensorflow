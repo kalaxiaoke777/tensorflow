{
 "cells": [
  {
   "cell_type": "code",
   "id": "initial_id",
   "metadata": {
    "collapsed": true,
    "ExecuteTime": {
     "end_time": "2025-03-24T03:38:12.251610Z",
     "start_time": "2025-03-24T03:38:12.241128Z"
    }
   },
   "source": [
    "import tensorflow as tf\n",
    "from tensorflow import keras"
   ],
   "outputs": [],
   "execution_count": 2
  },
  {
   "metadata": {
    "ExecuteTime": {
     "end_time": "2025-03-24T03:49:52.346407Z",
     "start_time": "2025-03-24T03:49:52.324348Z"
    }
   },
   "cell_type": "code",
   "source": [
    "\n",
    "with tf.device(\"/gpu:0\"):\n",
    "    a = tf.constant([1.0, 2.0, 3.0, 4.0, 5.0, 6.0, 7.0, 8.0, 9.0])\n",
    "a.device\n",
    "b = a.numpy()\n",
    "tf.is_tensor(b)"
   ],
   "id": "d979e3beec6ef9",
   "outputs": [
    {
     "data": {
      "text/plain": [
       "False"
      ]
     },
     "execution_count": 20,
     "metadata": {},
     "output_type": "execute_result"
    }
   ],
   "execution_count": 20
  },
  {
   "metadata": {
    "ExecuteTime": {
     "end_time": "2025-03-24T03:58:35.708570Z",
     "start_time": "2025-03-24T03:58:35.698805Z"
    }
   },
   "cell_type": "code",
   "source": [
    "c = tf.convert_to_tensor(b) #numpy转tensor\n",
    "tf.is_tensor(c)"
   ],
   "id": "ed1f57ccf4ab9dae",
   "outputs": [
    {
     "data": {
      "text/plain": [
       "True"
      ]
     },
     "execution_count": 25,
     "metadata": {},
     "output_type": "execute_result"
    }
   ],
   "execution_count": 25
  },
  {
   "metadata": {
    "ExecuteTime": {
     "end_time": "2025-03-24T07:01:41.128909Z",
     "start_time": "2025-03-24T07:01:41.109837Z"
    }
   },
   "cell_type": "code",
   "source": [
    "# 创建一个浮点型 Tensor\n",
    "tensor_float = tf.constant([1.0, 2.0, 3.0], dtype=tf.float32)\n",
    "\n",
    "# 创建一个整数型 Tensor\n",
    "tensor_int = tf.constant([[1, 2, 3]], dtype=tf.int32)"
   ],
   "id": "931219e74e891848",
   "outputs": [],
   "execution_count": 36
  },
  {
   "metadata": {
    "ExecuteTime": {
     "end_time": "2025-03-24T07:08:42.099782Z",
     "start_time": "2025-03-24T07:08:42.081666Z"
    }
   },
   "cell_type": "code",
   "source": "tensor_int.numpy()",
   "id": "8a7693934d67ba75",
   "outputs": [
    {
     "data": {
      "text/plain": [
       "array([[1, 2, 3]])"
      ]
     },
     "execution_count": 38,
     "metadata": {},
     "output_type": "execute_result"
    }
   ],
   "execution_count": 38
  },
  {
   "metadata": {
    "ExecuteTime": {
     "end_time": "2025-03-24T07:10:15.103900Z",
     "start_time": "2025-03-24T07:10:15.095160Z"
    }
   },
   "cell_type": "code",
   "source": [
    "tensor_float = tf.constant([1.0, 2.0, 3.0], dtype=tf.float32)\n",
    "tensor_int = tf.cast(tensor_float, dtype=tf.int32)"
   ],
   "id": "9ed035bf9b327773",
   "outputs": [],
   "execution_count": 40
  },
  {
   "metadata": {
    "ExecuteTime": {
     "end_time": "2025-03-24T07:11:03.663937Z",
     "start_time": "2025-03-24T07:11:03.651613Z"
    }
   },
   "cell_type": "code",
   "source": [
    "import tensorflow as tf\n",
    "\n",
    "# 创建一个标量 Tensor\n",
    "scalar_tensor = tf.constant(5)\n",
    "\n",
    "# 创建一个一维 Tensor\n",
    "vector_tensor = tf.constant([1, 2, 3])\n",
    "\n",
    "# 创建一个二维 Tensor（矩阵）\n",
    "matrix_tensor = tf.constant([[1, 2], [3, 4]])\n",
    "\n",
    "# 创建一个三维 Tensor\n",
    "tensor_3d = tf.constant([[[1, 2], [3, 4]], [[5, 6], [7, 8]]])\n",
    "\n",
    "# 指定数据类型\n",
    "float_tensor = tf.constant([1.0, 2.0, 3.0], dtype=tf.float32)"
   ],
   "id": "4fa7560f4971a83",
   "outputs": [],
   "execution_count": 42
  },
  {
   "metadata": {
    "ExecuteTime": {
     "end_time": "2025-03-24T07:15:21.862098Z",
     "start_time": "2025-03-24T07:15:21.850638Z"
    }
   },
   "cell_type": "code",
   "source": [
    "# 创建一个形状为 [3, 4] 的全零 Tensor\n",
    "zeros_tensor = tf.zeros([3, 4])\n",
    "# 创建一个形状为 [2, 2] 的全一 Tensor\n",
    "ones_tensor = tf.ones([2, 2])\n",
    "\n",
    "# 指定数据类型\n",
    "zeros_float = tf.zeros([3, 4], dtype=tf.float32)\n",
    "ones_int = tf.ones([2, 2], dtype=tf.int32)"
   ],
   "id": "9dfb498352f72cda",
   "outputs": [],
   "execution_count": 54
  },
  {
   "metadata": {
    "ExecuteTime": {
     "end_time": "2025-03-24T07:16:14.251425Z",
     "start_time": "2025-03-24T07:16:14.232768Z"
    }
   },
   "cell_type": "code",
   "source": [
    "# 创建一个形状为 [2, 3] 的 Tensor，填充值为 7\n",
    "filled_tensor = tf.fill([2, 3], 7)\n",
    "filled_tensor"
   ],
   "id": "59b6689973329f59",
   "outputs": [
    {
     "data": {
      "text/plain": [
       "<tf.Tensor: shape=(2, 3), dtype=int32, numpy=\n",
       "array([[7, 7, 7],\n",
       "       [7, 7, 7]])>"
      ]
     },
     "execution_count": 57,
     "metadata": {},
     "output_type": "execute_result"
    }
   ],
   "execution_count": 57
  },
  {
   "metadata": {
    "ExecuteTime": {
     "end_time": "2025-03-24T07:16:28.235714Z",
     "start_time": "2025-03-24T07:16:28.223631Z"
    }
   },
   "cell_type": "code",
   "source": [
    "# 创建一个形状为 [3, 3] 的随机正态分布 Tensor\n",
    "random_normal = tf.random.normal([3, 3], mean=0.0, stddev=1.0)\n",
    "random_normal"
   ],
   "id": "c41578b5639ed3b3",
   "outputs": [
    {
     "data": {
      "text/plain": [
       "<tf.Tensor: shape=(3, 3), dtype=float32, numpy=\n",
       "array([[-0.49544033,  1.8233652 , -0.75553036],\n",
       "       [ 0.2377653 ,  0.21498473,  0.3033026 ],\n",
       "       [ 0.21892206,  2.672727  , -1.5538156 ]], dtype=float32)>"
      ]
     },
     "execution_count": 60,
     "metadata": {},
     "output_type": "execute_result"
    }
   ],
   "execution_count": 60
  },
  {
   "metadata": {
    "ExecuteTime": {
     "end_time": "2025-03-24T07:22:45.648582Z",
     "start_time": "2025-03-24T07:22:45.626242Z"
    }
   },
   "cell_type": "code",
   "source": [
    "# 创建一个形状为 [2, 2] 的随机均匀分布 Tensor\n",
    "random_uniform = tf.random.uniform([2, 2, 3], minval=0, maxval=1)\n",
    "random_uniform"
   ],
   "id": "4dea2e1a5c0893e9",
   "outputs": [
    {
     "data": {
      "text/plain": [
       "<tf.Tensor: shape=(2, 2, 3), dtype=float32, numpy=\n",
       "array([[[0.88991964, 0.07173491, 0.95385635],\n",
       "        [0.61277795, 0.42028832, 0.66771567]],\n",
       "\n",
       "       [[0.3431704 , 0.65691864, 0.93220246],\n",
       "        [0.5058092 , 0.13339126, 0.00436044]]], dtype=float32)>"
      ]
     },
     "execution_count": 69,
     "metadata": {},
     "output_type": "execute_result"
    }
   ],
   "execution_count": 69
  },
  {
   "metadata": {
    "ExecuteTime": {
     "end_time": "2025-03-24T07:25:55.710102Z",
     "start_time": "2025-03-24T07:25:55.701190Z"
    }
   },
   "cell_type": "code",
   "source": [
    "# 创建一个从 0 到 9 的序列 Tensor\n",
    "range_tensor = tf.range(10)\n",
    "\n",
    "# 创建一个从 1 到 10，步长为 2 的序列 Tensor\n",
    "range_tensor_step = tf.range(1, 11, 2)\n",
    "range_tensor_step"
   ],
   "id": "de108f1553716e82",
   "outputs": [
    {
     "data": {
      "text/plain": [
       "<tf.Tensor: shape=(5,), dtype=int32, numpy=array([1, 3, 5, 7, 9])>"
      ]
     },
     "execution_count": 73,
     "metadata": {},
     "output_type": "execute_result"
    }
   ],
   "execution_count": 73
  },
  {
   "metadata": {
    "ExecuteTime": {
     "end_time": "2025-03-24T07:44:03.825348Z",
     "start_time": "2025-03-24T07:44:03.810266Z"
    }
   },
   "cell_type": "code",
   "source": [
    "# 创建一个稀疏 Tensor\n",
    "sparse_tensor = tf.sparse.SparseTensor(\n",
    "    indices=[[0, 0], [1, 2]],  # 稀疏元素的索引\n",
    "    values=[1, 2],            # 稀疏元素的值\n",
    "    dense_shape=[3, 4]         # Tensor 的形状\n",
    ")"
   ],
   "id": "a18741b756c83430",
   "outputs": [],
   "execution_count": 76
  },
  {
   "metadata": {
    "ExecuteTime": {
     "end_time": "2025-03-24T07:44:32.885406Z",
     "start_time": "2025-03-24T07:44:32.863743Z"
    }
   },
   "cell_type": "code",
   "source": [
    "# 创建一个一维 Tensor\n",
    "tensor_1d = tf.constant([1, 2, 3, 4, 5])\n",
    "tensor_1d"
   ],
   "id": "ca4737852980e63",
   "outputs": [
    {
     "data": {
      "text/plain": [
       "<tf.Tensor: shape=(5,), dtype=int32, numpy=array([1, 2, 3, 4, 5])>"
      ]
     },
     "execution_count": 81,
     "metadata": {},
     "output_type": "execute_result"
    }
   ],
   "execution_count": 81
  },
  {
   "metadata": {
    "ExecuteTime": {
     "end_time": "2025-03-24T07:45:23.826700Z",
     "start_time": "2025-03-24T07:45:23.818340Z"
    }
   },
   "cell_type": "code",
   "source": "tensor_1d[1:3]",
   "id": "7c41f16dab0a809d",
   "outputs": [
    {
     "data": {
      "text/plain": [
       "<tf.Tensor: shape=(2,), dtype=int32, numpy=array([2, 3])>"
      ]
     },
     "execution_count": 83,
     "metadata": {},
     "output_type": "execute_result"
    }
   ],
   "execution_count": 83
  },
  {
   "metadata": {
    "ExecuteTime": {
     "end_time": "2025-03-24T07:49:12.245736Z",
     "start_time": "2025-03-24T07:49:12.222383Z"
    }
   },
   "cell_type": "code",
   "source": [
    "# 创建一个二维 Tensor\n",
    "tensor_2d = tf.constant([[1, 2, 3], [1, 2, 3], [1, 2, 3]])\n",
    "\n",
    "tensor_2d[::3]"
   ],
   "id": "6baa31c234b5246",
   "outputs": [
    {
     "data": {
      "text/plain": [
       "<tf.Tensor: shape=(1, 3), dtype=int32, numpy=array([[1, 2, 3]])>"
      ]
     },
     "execution_count": 112,
     "metadata": {},
     "output_type": "execute_result"
    }
   ],
   "execution_count": 112
  },
  {
   "metadata": {
    "ExecuteTime": {
     "end_time": "2025-03-24T08:02:55.078053Z",
     "start_time": "2025-03-24T08:02:55.054867Z"
    }
   },
   "cell_type": "code",
   "source": [
    "tensor_3d = tf.constant([[[1, 2], [3, 4], [5, 6], [7, 8]]])\n",
    "\n",
    "filtered_elements = tf.boolean_mask(tensor_3d[0], tensor_3d[0] > 1)\n",
    "filtered_elements,tensor_3d[0]"
   ],
   "id": "ea4c2df861d8e4e5",
   "outputs": [
    {
     "data": {
      "text/plain": [
       "(<tf.Tensor: shape=(7,), dtype=int32, numpy=array([2, 3, 4, 5, 6, 7, 8])>,\n",
       " <tf.Tensor: shape=(4, 2), dtype=int32, numpy=\n",
       " array([[1, 2],\n",
       "        [3, 4],\n",
       "        [5, 6],\n",
       "        [7, 8]])>)"
      ]
     },
     "execution_count": 133,
     "metadata": {},
     "output_type": "execute_result"
    }
   ],
   "execution_count": 133
  },
  {
   "metadata": {
    "ExecuteTime": {
     "end_time": "2025-03-24T08:13:12.216314Z",
     "start_time": "2025-03-24T08:13:12.195275Z"
    }
   },
   "cell_type": "code",
   "source": [
    "# 创建一个一维 Tensor\n",
    "tensor_1d = tf.constant([[10, 20, 30, 40],[10, 20, 30, 40]])\n",
    "\n",
    "# 提取索引为 [1, 3] 的元素\n",
    "gathered_elements = tf.gather_nd(tensor_1d, [[0,2],[1,3]])\n",
    "gathered_elements"
   ],
   "id": "c6cec8168045f103",
   "outputs": [
    {
     "data": {
      "text/plain": [
       "<tf.Tensor: shape=(2,), dtype=int32, numpy=array([30, 40])>"
      ]
     },
     "execution_count": 149,
     "metadata": {},
     "output_type": "execute_result"
    }
   ],
   "execution_count": 149
  },
  {
   "metadata": {
    "ExecuteTime": {
     "end_time": "2025-03-24T08:31:39.953215Z",
     "start_time": "2025-03-24T08:31:39.932553Z"
    }
   },
   "cell_type": "code",
   "source": [
    "# 创建一个二维 Tensor\n",
    "tensor_2d = tf.constant([[1, 2, 3], [4, 5, 6]])\n",
    "\n",
    "# 使用 tf.slice 提取从第 1 行到第 2 行的所有列\n",
    "sliced_tensor = tf.slice(tensor_2d, [0, 0], [1,3])  # 结果为 [[4, 5, 6]]\n",
    "sliced_tensor"
   ],
   "id": "8f47bdbfeb37d76c",
   "outputs": [
    {
     "data": {
      "text/plain": [
       "<tf.Tensor: shape=(1, 3), dtype=int32, numpy=array([[1, 2, 3]])>"
      ]
     },
     "execution_count": 167,
     "metadata": {},
     "output_type": "execute_result"
    }
   ],
   "execution_count": 167
  },
  {
   "metadata": {
    "ExecuteTime": {
     "end_time": "2025-03-24T08:33:47.848753Z",
     "start_time": "2025-03-24T08:33:47.831659Z"
    }
   },
   "cell_type": "code",
   "source": [
    "import tensorflow as tf\n",
    "\n",
    "# 创建一个一维张量\n",
    "tensor_1d = tf.random.normal([2, 3, 32,22])\n",
    "\n",
    "# 将一维张量重塑为 2x3 的二维张量\n",
    "tensor_2d = tf.reshape(tensor_1d, [2, -1])\n",
    "print(tensor_2d.shape)  # 输出：[[1, 2, 3], [4, 5, 6]]\n",
    "\n",
    "# 将一维张量重塑为 3x2 的二维张量\n",
    "tensor_2d = tf.reshape(tensor_1d, [3, -1])\n",
    "print(tensor_2d.shape)  # 输出：[[1, 2], [3, 4], [5, 6]]"
   ],
   "id": "11c4bdc255402b73",
   "outputs": [
    {
     "name": "stdout",
     "output_type": "stream",
     "text": [
      "(2, 2112)\n",
      "(3, 1408)\n"
     ]
    }
   ],
   "execution_count": 179
  },
  {
   "metadata": {
    "ExecuteTime": {
     "end_time": "2025-03-24T08:47:37.969285Z",
     "start_time": "2025-03-24T08:47:37.955042Z"
    }
   },
   "cell_type": "code",
   "source": [
    "# 创建一个三维张量\n",
    "tensor_3d = tf.constant([[[1, 2], [3, 4]], [[5, 6], [7, 8]]])\n",
    "print(tensor_3d)\n",
    "# 调换维度顺序\n",
    "transposed_tensor = tf.transpose(tensor_3d, perm=[2,0,1])\n",
    "print(transposed_tensor)\n",
    "# 输出：\n",
    "# [[[1, 2], [5, 6]],\n",
    "#  [[3, 4], [7, 8]]]"
   ],
   "id": "38f2f7f0fc9de2a0",
   "outputs": [
    {
     "name": "stdout",
     "output_type": "stream",
     "text": [
      "tf.Tensor(\n",
      "[[[1 2]\n",
      "  [3 4]]\n",
      "\n",
      " [[5 6]\n",
      "  [7 8]]], shape=(2, 2, 2), dtype=int32)\n",
      "tf.Tensor(\n",
      "[[[1 3]\n",
      "  [5 7]]\n",
      "\n",
      " [[2 4]\n",
      "  [6 8]]], shape=(2, 2, 2), dtype=int32)\n"
     ]
    }
   ],
   "execution_count": 193
  },
  {
   "metadata": {
    "ExecuteTime": {
     "end_time": "2025-03-24T08:49:17.590657Z",
     "start_time": "2025-03-24T08:49:17.577230Z"
    }
   },
   "cell_type": "code",
   "source": [
    "# 创建一个形状为 [1, 3, 1, 4] 的张量\n",
    "tensor_4d = tf.constant([[[[1, 2, 3, 4]]]])\n",
    "\n",
    "# 使用 tf.squeeze 移除大小为 1 的维度\n",
    "squeezed_tensor = tf.squeeze(tensor_4d)\n",
    "print(squeezed_tensor.shape)  # 输出：(3, 4)\n",
    "\n",
    "# 指定移除特定维度\n",
    "squeezed_tensor = tf.squeeze(tensor_4d, axis=[0, 2])\n",
    "print(squeezed_tensor.shape)  # 输出：(3, 4)\n",
    "\n",
    "# 使用 tf.expand_dims 在指定位置插入大小为 1 的维度\n",
    "expanded_tensor = tf.expand_dims(squeezed_tensor, axis=0)\n",
    "print(expanded_tensor.shape)  # 输出：(1, 3, 4)"
   ],
   "id": "a1142ce9fb61f38a",
   "outputs": [
    {
     "name": "stdout",
     "output_type": "stream",
     "text": [
      "(4,)\n",
      "(1, 4)\n",
      "(1, 1, 4)\n"
     ]
    }
   ],
   "execution_count": 195
  },
  {
   "metadata": {
    "ExecuteTime": {
     "end_time": "2025-03-24T08:51:41.290043Z",
     "start_time": "2025-03-24T08:51:41.270771Z"
    }
   },
   "cell_type": "code",
   "source": [
    "# 创建两个形状为 [2, 3] 的张量\n",
    "tensor_a = tf.constant([[1, 2, 3], [4, 5, 6]])\n",
    "tensor_b = tf.constant([[7, 8, 9], [10, 11, 12]])\n",
    "\n",
    "# 沿第 0 轴（行）连接\n",
    "concatenated_tensor = tf.concat([tensor_b,tensor_a], axis=0)\n",
    "print(concatenated_tensor)\n",
    "# 输出：\n",
    "# [[ 1,  2,  3],\n",
    "#  [ 4,  5,  6],\n",
    "#  [ 7,  8,  9],\n",
    "#  [10, 11, 12]]\n",
    "\n",
    "# 沿第 1 轴（列）连接\n",
    "concatenated_tensor = tf.concat([tensor_a, tensor_b], axis=1)\n",
    "print(concatenated_tensor)\n",
    "# 输出：\n",
    "# [[ 1,  2,  3,  7,  8,  9],\n",
    "#  [ 4,  5,  6, 10, 11, 12]]\n",
    "\n",
    "# 将张量沿第 0 轴分割成两个子张量\n",
    "tensor_to_split = tf.constant([[1, 2, 3], [4, 5, 6], [7, 8, 9], [10, 11, 12]])\n",
    "split_tensors = tf.split(tensor_to_split, num_or_size_splits=2, axis=0)\n",
    "print(len(split_tensors))\n",
    "# 输出：\n",
    "# [<tf.Tensor: shape=(2, 3), dtype=int32, numpy=\n",
    "#  array([[1, 2, 3],\n",
    "#         [4, 5, 6]], dtype=int32)>,\n",
    "#  <tf.Tensor: shape=(2, 3), dtype=int32, numpy=\n",
    "#  array([[ 7,  8,  9],\n",
    "#         [10, 11, 12]], dtype=int32)>]"
   ],
   "id": "df70bb5b91b58ce6",
   "outputs": [
    {
     "name": "stdout",
     "output_type": "stream",
     "text": [
      "tf.Tensor(\n",
      "[[ 7  8  9]\n",
      " [10 11 12]\n",
      " [ 1  2  3]\n",
      " [ 4  5  6]], shape=(4, 3), dtype=int32)\n",
      "tf.Tensor(\n",
      "[[ 1  2  3  7  8  9]\n",
      " [ 4  5  6 10 11 12]], shape=(2, 6), dtype=int32)\n",
      "2\n"
     ]
    }
   ],
   "execution_count": 205
  },
  {
   "metadata": {
    "ExecuteTime": {
     "end_time": "2025-03-24T09:02:34.050967Z",
     "start_time": "2025-03-24T09:02:34.038272Z"
    }
   },
   "cell_type": "code",
   "source": [
    "# 创建一个形状为 [2, 3] 的张量\n",
    "tensor_2d = tf.constant([[1, 2, 3], [4, 5, 6]])\n",
    "\n",
    "# 沿第 0 轴重复 2 次，沿第 1 轴重复 3 次\n",
    "tiled_tensor = tf.tile(tensor_2d, multiples=[2, 3])\n",
    "print(tiled_tensor)\n",
    "# 输出：\n",
    "# [[1, 2, 3, 1, 2, 3, 1, 2, 3],\n",
    "#  [4, 5, 6, 4, 5, 6, 4, 5, 6],\n",
    "#  [1, 2, 3, 1, 2, 3, 1, 2, 3],\n",
    "#  [4, 5, 6, 4, 5, 6, 4, 5, 6]]"
   ],
   "id": "b4774172b5703bf8",
   "outputs": [
    {
     "name": "stdout",
     "output_type": "stream",
     "text": [
      "tf.Tensor(\n",
      "[[1 2 3 1 2 3 1 2 3]\n",
      " [4 5 6 4 5 6 4 5 6]\n",
      " [1 2 3 1 2 3 1 2 3]\n",
      " [4 5 6 4 5 6 4 5 6]], shape=(4, 9), dtype=int32)\n"
     ]
    }
   ],
   "execution_count": 213
  },
  {
   "metadata": {
    "ExecuteTime": {
     "end_time": "2025-03-24T09:19:44.763403Z",
     "start_time": "2025-03-24T09:19:44.743326Z"
    }
   },
   "cell_type": "code",
   "source": [
    "tensor_2d = tf.constant([[1, 2, 3], [4, 5, 6]])\n",
    "# 这里进行了隐式的转换\n",
    "tensor_2d + tensor_2d[0,1]"
   ],
   "id": "57ee9426f497641e",
   "outputs": [
    {
     "data": {
      "text/plain": [
       "<tf.Tensor: shape=(2, 3), dtype=int32, numpy=\n",
       "array([[3, 4, 5],\n",
       "       [6, 7, 8]])>"
      ]
     },
     "execution_count": 224,
     "metadata": {},
     "output_type": "execute_result"
    }
   ],
   "execution_count": 224
  },
  {
   "metadata": {
    "ExecuteTime": {
     "end_time": "2025-03-24T09:46:39.576507Z",
     "start_time": "2025-03-24T09:46:39.553292Z"
    }
   },
   "cell_type": "code",
   "source": [
    "import numpy as np\n",
    "\n",
    "# 定义两个三维数组\n",
    "a = np.random.rand(2, 3, 4)\n",
    "b = np.random.rand(2, 4, 5)"
   ],
   "id": "613022891a814149",
   "outputs": [],
   "execution_count": 5
  },
  {
   "metadata": {
    "ExecuteTime": {
     "end_time": "2025-03-24T09:49:05.666784Z",
     "start_time": "2025-03-24T09:49:05.646158Z"
    }
   },
   "cell_type": "code",
   "source": [
    "\n",
    "x = tf.constant(5)\n",
    "y = tf.constant(3)\n",
    "result_pow = tf.pow(x, y)  # 125\n",
    "result_pow,x**y"
   ],
   "id": "b94b12159c008511",
   "outputs": [
    {
     "data": {
      "text/plain": [
       "(<tf.Tensor: shape=(), dtype=int32, numpy=125>,\n",
       " <tf.Tensor: shape=(), dtype=int32, numpy=125>)"
      ]
     },
     "execution_count": 19,
     "metadata": {},
     "output_type": "execute_result"
    }
   ],
   "execution_count": 19
  },
  {
   "metadata": {
    "ExecuteTime": {
     "end_time": "2025-03-24T09:49:40.154741Z",
     "start_time": "2025-03-24T09:49:40.140273Z"
    }
   },
   "cell_type": "code",
   "source": [
    "x = tf.constant(5)\n",
    "y = tf.constant(3)\n",
    "\n",
    "# 等于\n",
    "result_equal = tf.equal(x, y)  # False\n",
    "\n",
    "# 不等于\n",
    "result_not_equal = tf.not_equal(x, y)  # True\n",
    "\n",
    "# 小于\n",
    "result_less = tf.less(x, y)  # False\n",
    "\n",
    "# 小于等于\n",
    "result_less_equal = tf.less_equal(x, y)  # False\n",
    "\n",
    "# 大于\n",
    "result_greater = tf.greater(x, y)  # True\n",
    "\n",
    "# 大于等于\n",
    "result_greater_equal = tf.greater_equal(x, y)  # True"
   ],
   "id": "3424b9752b776e28",
   "outputs": [],
   "execution_count": 22
  },
  {
   "metadata": {
    "ExecuteTime": {
     "end_time": "2025-03-24T09:50:51.966959Z",
     "start_time": "2025-03-24T09:50:51.956910Z"
    }
   },
   "cell_type": "code",
   "source": [
    "x = tf.constant(True)\n",
    "y = tf.constant(False)\n",
    "\n",
    "# 逻辑与\n",
    "result_and = tf.logical_and(x, y)  # False\n",
    "\n",
    "# 逻辑或\n",
    "result_or = tf.logical_or(x, y)  # True\n",
    "\n",
    "# 逻辑非\n",
    "result_not = tf.logical_not(x)  # False"
   ],
   "id": "5981b7869a7fde3",
   "outputs": [],
   "execution_count": 25
  },
  {
   "metadata": {
    "ExecuteTime": {
     "end_time": "2025-03-24T09:51:30.449407Z",
     "start_time": "2025-03-24T09:51:30.428305Z"
    }
   },
   "cell_type": "code",
   "source": [
    "x = tf.constant([[1, 2], [3, 4]])\n",
    "y = tf.constant([[5, 6], [7, 8]])\n",
    "\n",
    "# 矩阵乘法\n",
    "result_matmul = tf.matmul(x, y)  # [[19, 22], [43, 50]]\n",
    "result_matmul"
   ],
   "id": "1e106467d607054a",
   "outputs": [
    {
     "data": {
      "text/plain": [
       "<tf.Tensor: shape=(2, 2), dtype=int32, numpy=\n",
       "array([[19, 22],\n",
       "       [43, 50]])>"
      ]
     },
     "execution_count": 28,
     "metadata": {},
     "output_type": "execute_result"
    }
   ],
   "execution_count": 28
  },
  {
   "metadata": {
    "ExecuteTime": {
     "end_time": "2025-03-24T09:51:31.327292Z",
     "start_time": "2025-03-24T09:51:31.295319Z"
    }
   },
   "cell_type": "code",
   "source": [
    "x = tf.constant([-1.0, 0.0, 1.0])\n",
    "\n",
    "# ReLU 激活函数\n",
    "result_relu = tf.nn.relu(x)  # [0.0, 0.0, 1.0]\n",
    "\n",
    "# Sigmoid 激活函数\n",
    "result_sigmoid = tf.nn.sigmoid(x)  # [0.2689, 0.5, 0.7311]\n",
    "\n",
    "# Tanh 激活函数\n",
    "result_tanh = tf.nn.tanh(x)  # [-0.7616, 0.0, 0.7616]"
   ],
   "id": "d0b9778d4c9b2733",
   "outputs": [],
   "execution_count": 29
  }
 ],
 "metadata": {
  "kernelspec": {
   "display_name": "Python 3",
   "language": "python",
   "name": "python3"
  },
  "language_info": {
   "codemirror_mode": {
    "name": "ipython",
    "version": 2
   },
   "file_extension": ".py",
   "mimetype": "text/x-python",
   "name": "python",
   "nbconvert_exporter": "python",
   "pygments_lexer": "ipython2",
   "version": "2.7.6"
  }
 },
 "nbformat": 4,
 "nbformat_minor": 5
}
